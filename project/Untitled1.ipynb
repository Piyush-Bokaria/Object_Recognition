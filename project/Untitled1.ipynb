{
 "cells": [
  {
   "cell_type": "code",
   "execution_count": 2,
   "id": "a3b5db4b-1668-4433-87d5-db5160630d9e",
   "metadata": {},
   "outputs": [],
   "source": [
    "!pip install -q pycocotools "
   ]
  },
  {
   "cell_type": "code",
   "execution_count": 4,
   "id": "4be54ef6-4c06-472c-aef3-66ced373262e",
   "metadata": {},
   "outputs": [
    {
     "name": "stdout",
     "output_type": "stream",
     "text": [
      "Collecting gluoncvNote: you may need to restart the kernel to use updated packages.\n",
      "\n",
      "  Downloading gluoncv-0.10.5.post0-py2.py3-none-any.whl.metadata (1.6 kB)\n",
      "Requirement already satisfied: numpy in c:\\users\\piyush\\appdata\\local\\programs\\python\\python312\\lib\\site-packages (from gluoncv) (1.26.3)\n",
      "Requirement already satisfied: tqdm in c:\\users\\piyush\\appdata\\local\\programs\\python\\python312\\lib\\site-packages (from gluoncv) (4.66.5)\n",
      "Requirement already satisfied: requests in c:\\users\\piyush\\appdata\\local\\programs\\python\\python312\\lib\\site-packages (from gluoncv) (2.32.3)\n",
      "Requirement already satisfied: matplotlib in c:\\users\\piyush\\appdata\\local\\programs\\python\\python312\\lib\\site-packages (from gluoncv) (3.8.4)\n",
      "Collecting portalocker (from gluoncv)\n",
      "  Downloading portalocker-2.10.1-py3-none-any.whl.metadata (8.5 kB)\n",
      "Requirement already satisfied: Pillow in c:\\users\\piyush\\appdata\\local\\programs\\python\\python312\\lib\\site-packages (from gluoncv) (10.4.0)\n",
      "Requirement already satisfied: scipy in c:\\users\\piyush\\appdata\\local\\programs\\python\\python312\\lib\\site-packages (from gluoncv) (1.13.0)\n",
      "Collecting yacs (from gluoncv)\n",
      "  Downloading yacs-0.1.8-py3-none-any.whl.metadata (639 bytes)\n",
      "Requirement already satisfied: pandas in c:\\users\\piyush\\appdata\\local\\programs\\python\\python312\\lib\\site-packages (from gluoncv) (2.1.4)\n",
      "Requirement already satisfied: pyyaml in c:\\users\\piyush\\appdata\\local\\programs\\python\\python312\\lib\\site-packages (from gluoncv) (6.0.1)\n",
      "Collecting autocfg (from gluoncv)\n",
      "  Downloading autocfg-0.0.8-py3-none-any.whl.metadata (816 bytes)\n",
      "Requirement already satisfied: opencv-python in c:\\users\\piyush\\appdata\\local\\programs\\python\\python312\\lib\\site-packages (from gluoncv) (4.9.0.80)\n",
      "Requirement already satisfied: contourpy>=1.0.1 in c:\\users\\piyush\\appdata\\local\\programs\\python\\python312\\lib\\site-packages (from matplotlib->gluoncv) (1.2.0)\n",
      "Requirement already satisfied: cycler>=0.10 in c:\\users\\piyush\\appdata\\local\\programs\\python\\python312\\lib\\site-packages (from matplotlib->gluoncv) (0.12.1)\n",
      "Requirement already satisfied: fonttools>=4.22.0 in c:\\users\\piyush\\appdata\\local\\programs\\python\\python312\\lib\\site-packages (from matplotlib->gluoncv) (4.47.0)\n",
      "Requirement already satisfied: kiwisolver>=1.3.1 in c:\\users\\piyush\\appdata\\local\\programs\\python\\python312\\lib\\site-packages (from matplotlib->gluoncv) (1.4.5)\n",
      "Requirement already satisfied: packaging>=20.0 in c:\\users\\piyush\\appdata\\local\\programs\\python\\python312\\lib\\site-packages (from matplotlib->gluoncv) (23.2)\n",
      "Requirement already satisfied: pyparsing>=2.3.1 in c:\\users\\piyush\\appdata\\local\\programs\\python\\python312\\lib\\site-packages (from matplotlib->gluoncv) (3.1.1)\n",
      "Requirement already satisfied: python-dateutil>=2.7 in c:\\users\\piyush\\appdata\\local\\programs\\python\\python312\\lib\\site-packages (from matplotlib->gluoncv) (2.8.2)\n",
      "Requirement already satisfied: pytz>=2020.1 in c:\\users\\piyush\\appdata\\local\\programs\\python\\python312\\lib\\site-packages (from pandas->gluoncv) (2023.3.post1)\n",
      "Requirement already satisfied: tzdata>=2022.1 in c:\\users\\piyush\\appdata\\local\\programs\\python\\python312\\lib\\site-packages (from pandas->gluoncv) (2023.4)\n",
      "Requirement already satisfied: pywin32>=226 in c:\\users\\piyush\\appdata\\local\\programs\\python\\python312\\lib\\site-packages (from portalocker->gluoncv) (306)\n",
      "Requirement already satisfied: charset-normalizer<4,>=2 in c:\\users\\piyush\\appdata\\local\\programs\\python\\python312\\lib\\site-packages (from requests->gluoncv) (3.3.2)\n",
      "Requirement already satisfied: idna<4,>=2.5 in c:\\users\\piyush\\appdata\\local\\programs\\python\\python312\\lib\\site-packages (from requests->gluoncv) (3.6)\n",
      "Requirement already satisfied: urllib3<3,>=1.21.1 in c:\\users\\piyush\\appdata\\local\\programs\\python\\python312\\lib\\site-packages (from requests->gluoncv) (2.1.0)\n",
      "Requirement already satisfied: certifi>=2017.4.17 in c:\\users\\piyush\\appdata\\local\\programs\\python\\python312\\lib\\site-packages (from requests->gluoncv) (2023.11.17)\n",
      "Requirement already satisfied: colorama in c:\\users\\piyush\\appdata\\local\\programs\\python\\python312\\lib\\site-packages (from tqdm->gluoncv) (0.4.6)\n",
      "Requirement already satisfied: six>=1.5 in c:\\users\\piyush\\appdata\\local\\programs\\python\\python312\\lib\\site-packages (from python-dateutil>=2.7->matplotlib->gluoncv) (1.16.0)\n",
      "Downloading gluoncv-0.10.5.post0-py2.py3-none-any.whl (1.3 MB)\n",
      "   ---------------------------------------- 0.0/1.3 MB ? eta -:--:--\n",
      "   -------------------------------- ------- 1.0/1.3 MB 7.2 MB/s eta 0:00:01\n",
      "   ---------------------------------------- 1.3/1.3 MB 3.4 MB/s eta 0:00:00\n",
      "Downloading autocfg-0.0.8-py3-none-any.whl (13 kB)\n",
      "Downloading portalocker-2.10.1-py3-none-any.whl (18 kB)\n",
      "Downloading yacs-0.1.8-py3-none-any.whl (14 kB)\n",
      "Installing collected packages: yacs, portalocker, autocfg, gluoncv\n",
      "Successfully installed autocfg-0.0.8 gluoncv-0.10.5.post0 portalocker-2.10.1 yacs-0.1.8\n"
     ]
    }
   ],
   "source": [
    "pip install gluoncv"
   ]
  },
  {
   "cell_type": "code",
   "execution_count": 7,
   "id": "e5487908-ca79-42dd-b6ca-c62fae6f46b1",
   "metadata": {},
   "outputs": [
    {
     "name": "stderr",
     "output_type": "stream",
     "text": [
      "Cloning into 'ultralytics'...\n"
     ]
    },
    {
     "name": "stdout",
     "output_type": "stream",
     "text": [
      "Note: you may need to restart the kernel to use updated packages.\n"
     ]
    }
   ],
   "source": [
    "!git clone https://github.com/ultralytics/ultralytics\n",
    "%pip install -qe ultralytics"
   ]
  },
  {
   "cell_type": "code",
   "execution_count": 1,
   "id": "3cab1688-9c12-4ef8-8ad5-c6e71daa63bd",
   "metadata": {},
   "outputs": [],
   "source": [
    "import os "
   ]
  },
  {
   "cell_type": "code",
   "execution_count": 15,
   "id": "8dd441d9-eadd-4588-8944-c4a2df5c1087",
   "metadata": {},
   "outputs": [
    {
     "data": {
      "text/plain": [
       "'C:\\\\Users\\\\Piyush\\\\Social_Relevant_Project\\\\project'"
      ]
     },
     "execution_count": 15,
     "metadata": {},
     "output_type": "execute_result"
    }
   ],
   "source": [
    "!cd ultralytics\n",
    "os.getcwd()"
   ]
  },
  {
   "cell_type": "code",
   "execution_count": 22,
   "id": "4c13e95d-5fea-45f5-b22c-fc3c30c17476",
   "metadata": {},
   "outputs": [
    {
     "name": "stdout",
     "output_type": "stream",
     "text": [
      "[WinError 3] The system cannot find the path specified: 'kaggle\\\\working\\\\ultralytics\\\\mydata'\n",
      "C:\\Users\\Piyush\\Social_Relevant_Project\\project\\kaggle\n"
     ]
    }
   ],
   "source": [
    "cd kaggle\\working\\ultralytics\\mydata"
   ]
  },
  {
   "cell_type": "code",
   "execution_count": 27,
   "id": "27dfd957-ee8c-454c-95e4-342649d5829a",
   "metadata": {},
   "outputs": [
    {
     "name": "stdout",
     "output_type": "stream",
     "text": [
      "[WinError 3] The system cannot find the path specified: 'Social_Relevant_Project\\\\project\\\\kaggle\\\\working'\n",
      "C:\\Users\\Piyush\\Social_Relevant_Project\\project\\kaggle\\working\n"
     ]
    }
   ],
   "source": [
    "cd Social_Relevant_Project\\project\\kaggle\\working"
   ]
  },
  {
   "cell_type": "code",
   "execution_count": 28,
   "id": "fb237c4a-c775-478e-8233-f98cc5acd18c",
   "metadata": {
    "scrolled": true
   },
   "outputs": [
    {
     "name": "stdout",
     "output_type": "stream",
     "text": [
      "C:\\Users\\Piyush\\Social_Relevant_Project\\project\\kaggle\\working\\ultralytics\n"
     ]
    }
   ],
   "source": [
    "cd ultralytics"
   ]
  },
  {
   "cell_type": "code",
   "execution_count": 29,
   "id": "b154e9f0-c885-4ba3-a700-31674c7f2f4d",
   "metadata": {},
   "outputs": [
    {
     "name": "stdout",
     "output_type": "stream",
     "text": [
      "C:\\Users\\Piyush\\Social_Relevant_Project\\project\\kaggle\\working\\ultralytics\\mydata\n"
     ]
    }
   ],
   "source": [
    "cd mydata"
   ]
  },
  {
   "cell_type": "code",
   "execution_count": 30,
   "id": "fc18c7d8-6d5c-482e-9cd9-880cf40952d3",
   "metadata": {},
   "outputs": [],
   "source": [
    "from distutils.dir_util import copy_tree"
   ]
  },
  {
   "cell_type": "code",
   "execution_count": 33,
   "id": "7889c585-cf33-4fa1-ad17-7a78c0fb900b",
   "metadata": {},
   "outputs": [
    {
     "name": "stdout",
     "output_type": "stream",
     "text": [
      "C:\\Users\\Piyush\\Social_Relevant_Project\\project\\kaggle\\working\n"
     ]
    }
   ],
   "source": [
    "cd .."
   ]
  },
  {
   "cell_type": "code",
   "execution_count": 35,
   "id": "904607ec-4101-4899-bc4f-a26a4e03d458",
   "metadata": {},
   "outputs": [
    {
     "ename": "FileNotFoundError",
     "evalue": "[WinError 3] The system cannot find the path specified: 'C:/Users/Piyush/Social_Relevant_Project/project/kaggle/input/train-labels/labels/train_traffic'",
     "output_type": "error",
     "traceback": [
      "\u001b[1;31m---------------------------------------------------------------------------\u001b[0m",
      "\u001b[1;31mFileNotFoundError\u001b[0m                         Traceback (most recent call last)",
      "Cell \u001b[1;32mIn[35], line 2\u001b[0m\n\u001b[0;32m      1\u001b[0m \u001b[38;5;28;01mimport\u001b[39;00m \u001b[38;5;21;01mshutil\u001b[39;00m\n\u001b[1;32m----> 2\u001b[0m train_list \u001b[38;5;241m=\u001b[39m \u001b[43mos\u001b[49m\u001b[38;5;241;43m.\u001b[39;49m\u001b[43mlistdir\u001b[49m\u001b[43m(\u001b[49m\u001b[38;5;124;43m\"\u001b[39;49m\u001b[38;5;124;43mC:/Users/Piyush/Social_Relevant_Project/project/kaggle/input/train-labels/labels/train_traffic\u001b[39;49m\u001b[38;5;124;43m\"\u001b[39;49m\u001b[43m)\u001b[49m\n\u001b[0;32m      3\u001b[0m \u001b[38;5;28;01mfor\u001b[39;00m name \u001b[38;5;129;01min\u001b[39;00m train_list:\n\u001b[0;32m      4\u001b[0m     shutil\u001b[38;5;241m.\u001b[39mcopy(\u001b[38;5;124m\"\u001b[39m\u001b[38;5;124mC:/Users/Piyush/Social_Relevant_Project/project/kaggle/input/train-labels/labels/train_traffic/\u001b[39m\u001b[38;5;124m\"\u001b[39m \u001b[38;5;241m+\u001b[39m name, \u001b[38;5;124m\"\u001b[39m\u001b[38;5;124mC:/Users/Piyush/Social_Relevant_Project/project/kaggle/working/ultralytics/mydata/labels/train/\u001b[39m\u001b[38;5;124m\"\u001b[39m \u001b[38;5;241m+\u001b[39m name)\n",
      "\u001b[1;31mFileNotFoundError\u001b[0m: [WinError 3] The system cannot find the path specified: 'C:/Users/Piyush/Social_Relevant_Project/project/kaggle/input/train-labels/labels/train_traffic'"
     ]
    }
   ],
   "source": []
  }
 ],
 "metadata": {
  "kernelspec": {
   "display_name": "Python 3 (ipykernel)",
   "language": "python",
   "name": "python3"
  },
  "language_info": {
   "codemirror_mode": {
    "name": "ipython",
    "version": 3
   },
   "file_extension": ".py",
   "mimetype": "text/x-python",
   "name": "python",
   "nbconvert_exporter": "python",
   "pygments_lexer": "ipython3",
   "version": "3.12.1"
  }
 },
 "nbformat": 4,
 "nbformat_minor": 5
}
